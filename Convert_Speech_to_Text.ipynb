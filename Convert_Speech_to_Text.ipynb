{
  "nbformat": 4,
  "nbformat_minor": 0,
  "metadata": {
    "colab": {
      "name": "Convert Speech to Text.ipynb",
      "provenance": [],
      "authorship_tag": "ABX9TyNpN7mLAAMgg6cYOLaL754Y",
      "include_colab_link": true
    },
    "kernelspec": {
      "name": "python3",
      "display_name": "Python 3"
    },
    "language_info": {
      "name": "python"
    }
  },
  "cells": [
    {
      "cell_type": "markdown",
      "metadata": {
        "id": "view-in-github",
        "colab_type": "text"
      },
      "source": [
        "<a href=\"https://colab.research.google.com/github/nadaAlruwaythi/Speech-Recognition/blob/main/Convert_Speech_to_Text.ipynb\" target=\"_parent\"><img src=\"https://colab.research.google.com/assets/colab-badge.svg\" alt=\"Open In Colab\"/></a>"
      ]
    },
    {
      "cell_type": "markdown",
      "source": [
        "# Installing the library"
      ],
      "metadata": {
        "id": "4rzeh9XEtgbW"
      }
    },
    {
      "cell_type": "code",
      "source": [
        "pip install speechrecognition"
      ],
      "metadata": {
        "colab": {
          "base_uri": "https://localhost:8080/"
        },
        "id": "hP6_CKBqr-kp",
        "outputId": "ec2906d9-350a-415f-c08a-64a89eb716b2"
      },
      "execution_count": null,
      "outputs": [
        {
          "output_type": "stream",
          "name": "stdout",
          "text": [
            "Requirement already satisfied: speechrecognition in /usr/local/lib/python3.7/dist-packages (3.8.1)\n"
          ]
        }
      ]
    },
    {
      "cell_type": "markdown",
      "source": [
        "# Import library "
      ],
      "metadata": {
        "id": "aGH4fsTax84X"
      }
    },
    {
      "cell_type": "code",
      "execution_count": null,
      "metadata": {
        "id": "me4v4Sbrrdvu"
      },
      "outputs": [],
      "source": [
        "import speech_recognition as sr"
      ]
    },
    {
      "cell_type": "markdown",
      "source": [
        "# Reading from a File\n"
      ],
      "metadata": {
        "id": "WlB8pbtHyNI1"
      }
    },
    {
      "cell_type": "markdown",
      "source": [
        "The audio from kaggle https://www.kaggle.com/datasets/vjcalling/speaker-recognition-audio-dataset"
      ],
      "metadata": {
        "id": "kbVvnoGr0Df3"
      }
    },
    {
      "cell_type": "code",
      "source": [
        "file_wav='Audio-kaggle.wav'"
      ],
      "metadata": {
        "id": "RTMtelzksKVj"
      },
      "execution_count": null,
      "outputs": []
    },
    {
      "cell_type": "markdown",
      "source": [
        "# Initiаlize  reсоgnizer  сlаss  (fоr  reсоgnizing  the  sрeeсh)\n"
      ],
      "metadata": {
        "id": "bI1cCEsG0cjR"
      }
    },
    {
      "cell_type": "code",
      "source": [
        "r=sr.Recognizer()"
      ],
      "metadata": {
        "id": "KnuvmN130a-g"
      },
      "execution_count": null,
      "outputs": []
    },
    {
      "cell_type": "markdown",
      "source": [
        "loading the audio file, and converting the speech into text using Google Speech Recognition:"
      ],
      "metadata": {
        "id": "8DlbZX3S10Ew"
      }
    },
    {
      "cell_type": "code",
      "source": [
        "#Reading Audio file as source\n",
        "#listening  the  аudiо  file  аnd  stоre  in  input_audio  vаriаble\n",
        "with sr.AudioFile(file_wav)as source:\n",
        "  # listen for the data (load audio to memory)\n",
        "  input_audio=r.record(source)\n",
        " # using google speech recognition\n",
        "  text=r.recognize_google(input_audio)\n",
        "  print(text)\n"
      ],
      "metadata": {
        "colab": {
          "base_uri": "https://localhost:8080/"
        },
        "id": "VLUaoVdC1yQ-",
        "outputId": "17f1b5ce-b2d6-47ec-c693-bc75c7d7a9ed"
      },
      "execution_count": null,
      "outputs": [
        {
          "output_type": "stream",
          "name": "stdout",
          "text": [
            "chapters 1 through 4 of an American Robinson Crusoe this is a LibriVox recording on LibriVox recordings are in the public domain for more information or to volunteer please visit librivox.org this reading by Alison Hester Essence Georgia and American Robinson Caruso by Sammy will be Allison Preparatory note and American Robinson Caruso is the outcome of many years of experience with story in the early grades of elementary schools it was written to be used as a content and giving a knowledge of the beginning and the development of human progress the aim is not just to furnish an interesting narrative but one that is true to the course of human development and the scientific and geographical facts of the Isle\n"
          ]
        }
      ]
    },
    {
      "cell_type": "markdown",
      "source": [
        "## Changing Language"
      ],
      "metadata": {
        "id": "fO3NoUyOuwDs"
      }
    },
    {
      "cell_type": "code",
      "source": [
        "arabic_u='/content/AUDIO.wav'"
      ],
      "metadata": {
        "id": "3cZ6fdgi4Q0d"
      },
      "execution_count": null,
      "outputs": []
    },
    {
      "cell_type": "code",
      "source": [
        "with sr.AudioFile(arabic_u)as source:\n",
        "  # listen for the data (load audio to memory)\n",
        "  input_audio=r.record(source)\n",
        " # recognize (convert from speech to text)\n",
        "  text=r.recognize_google(input_audio,language='ar')\n",
        "  print(text)\n"
      ],
      "metadata": {
        "id": "zLR7rItU-mME",
        "colab": {
          "base_uri": "https://localhost:8080/"
        },
        "outputId": "1e951b62-7a5c-467a-861d-d58bfcf2a9e6"
      },
      "execution_count": null,
      "outputs": [
        {
          "output_type": "stream",
          "name": "stdout",
          "text": [
            "يبحث الناس عن السلام حول العالم و بينما يمارسون انسانيتهم في ذلك ينسون انفسهم\n"
          ]
        }
      ]
    },
    {
      "cell_type": "code",
      "source": [
        ""
      ],
      "metadata": {
        "id": "_SyrMjdsthS5"
      },
      "execution_count": null,
      "outputs": []
    }
  ]
}